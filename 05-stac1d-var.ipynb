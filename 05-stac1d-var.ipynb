{
 "cells": [
  {
   "cell_type": "code",
   "execution_count": 1,
   "metadata": {
    "collapsed": false,
    "deletable": true,
    "editable": true
   },
   "outputs": [
    {
     "name": "stdout",
     "output_type": "stream",
     "text": [
      "Populating the interactive namespace from numpy and matplotlib\n"
     ]
    }
   ],
   "source": [
    "%pylab inline\n",
    "plt.rcParams['figure.figsize'] = (8, 6)"
   ]
  },
  {
   "cell_type": "markdown",
   "metadata": {},
   "source": [
    "# Vedení tepla s variabilní konduktivitou a produkcí tepla\n",
    "Pro případ variabilní konduktivity (konduktivita je funkce) má evoluční rovnice vedení tepla tvar:\n",
    "\n",
    "\\begin{equation}\n",
    "\\rho \\cdot c \\cdot \\frac{{\\partial T}}{{\\partial t}} = \\frac{{\\partial}}{{\\partial x}} \\left( {\\lambda  \\cdot \\frac{{\\partial T}}{{\\partial x}}} \\right) + H\n",
    "\\end{equation}\n",
    "\n",
    "Stav, kdy teplotní rozdíl mezi jednotlivými částmi tělesa se v čase nemění t.j.\n",
    "$\\frac{\\partial T}{\\partial t} = 0$, nazýváme stacionárním vedením tepla. Rovnice vedení tepla má tvar:\n",
    "\n",
    "\\begin{equation}\n",
    "\\frac{{\\partial}}{{\\partial x}}\\left( {\\lambda  \\cdot \\frac{{\\partial T}}{{\\partial x}}} \\right) = - H\n",
    "\\end{equation}\n",
    "\n",
    "Rovnice můžeme upravit pomocí pravidla o derivaci součinu funkcí do tvaru:\n",
    "\n",
    "$$\\rho  \\cdot c \\cdot \\frac{{\\partial T}}{{\\partial t}} = \\frac{{\\partial \\lambda }}{{\\partial x}} \\cdot \\frac{{\\partial T}}{{\\partial x}} + \\lambda  \\cdot \\frac{{{\\partial ^2}T}}{{\\partial {x^2}}} + H$$\n",
    "resp.\n",
    "$$\\frac{{\\partial \\lambda }}{{\\partial x}} \\cdot \\frac{{\\partial T}}{{\\partial x}} + \\lambda  \\cdot \\frac{{{\\partial ^2}T}}{{\\partial {x^2}}} =  - H$$\n",
    "\n",
    "Pro každý diskrétní bod (kromě okrajových podmínek) ${x_i}$ pro $i = 1 \\ldots n-2$ pak platí:\n",
    "\n",
    "$${\\lambda _{i - 1}}{T_{{x_i} - \\Delta x}} - \\left( {{\\lambda _{i - 1}} + {\\lambda _i}} \\right){T_{x_i}} + {\\lambda _i}{T_{{x_i} + \\Delta x}} =  - \\Delta {x^2} \\cdot \\frac{{{H_{i-1}} + {H_i}}}{2}$$"
   ]
  },
  {
   "cell_type": "markdown",
   "metadata": {},
   "source": [
    "V maticovém tvaru lze soustavu rovnic zapsat ${\\bf{A}}x = b$ kde:\n",
    "\n",
    "$$\\bf{A} = \\begin{vmatrix}\n",
    "1&0&0&0&0&0\\\\\n",
    "{{\\lambda _0}}&{ - \\left( {{\\lambda _0} + {\\lambda _1}} \\right)}&{{\\lambda _1}}&0&0&0\\\\\n",
    "0&{{\\lambda _1}}&{ - \\left( {{\\lambda _1} + {\\lambda _2}} \\right)}&{{\\lambda _2}}&0&0\\\\\n",
    " \\vdots & \\vdots & \\vdots & \\vdots & \\vdots & \\vdots \\\\\n",
    "0&0&0&{{\\lambda _{n - 3}}}&{ - \\left( {{\\lambda _{n - 3}} + {\\lambda _{n - 2}}} \\right)}&{{\\lambda _{n - 2}}}\\\\\n",
    "0&0&0&0&{2 {\\lambda _{n - 2}}}&{- 2 {\\lambda _{n - 2}}}\n",
    "\\end{vmatrix}$$\n",
    "\n",
    "a\n",
    "\n",
    "$$b = \\begin{vmatrix}\n",
    "{{T_{def}}}\\\\\n",
    "{ - \\Delta {x^2} \\cdot \\frac{{{H_0} + {H_1}}}{2}}\\\\\n",
    "{ - \\Delta {x^2} \\cdot \\frac{{{H_1} + {H_2}}}{2}}\\\\\n",
    " \\vdots \\\\\n",
    "{ - \\Delta {x^2} \\cdot \\frac{{{H_{n - 2}} + {H_{n - 1}}}}{2}}\\\\\n",
    "{q \\cdot 2 \\Delta x - H_{n - 2} \\cdot \\Delta {x^2}}\n",
    "\\end{vmatrix}$$\n"
   ]
  },
  {
   "cell_type": "code",
   "execution_count": 2,
   "metadata": {
    "collapsed": true,
    "deletable": true,
    "editable": true
   },
   "outputs": [],
   "source": [
    "from scipy.sparse import spdiags\n",
    "from scipy.sparse.linalg import spsolve"
   ]
  },
  {
   "cell_type": "markdown",
   "metadata": {},
   "source": [
    "## Sestavení soustavy rovnic"
   ]
  },
  {
   "cell_type": "code",
   "execution_count": 3,
   "metadata": {
    "collapsed": true,
    "deletable": true,
    "editable": true
   },
   "outputs": [],
   "source": [
    "n, tc, q = 100, 35000, -0.02"
   ]
  },
  {
   "cell_type": "code",
   "execution_count": 4,
   "metadata": {
    "collapsed": false,
    "deletable": true,
    "editable": true
   },
   "outputs": [],
   "source": [
    "x = linspace(0, tc, n)  # pozice uzlu teploty\n",
    "dx = tc / (n - 1)       # vzdalenost uzlu\n",
    "xm = linspace(dx/2, tc - dx/2, n-1) # pozice uzlu pro konduktivitu a produkci"
   ]
  },
  {
   "cell_type": "markdown",
   "metadata": {},
   "source": [
    "Konduktivita a produkce tepla jsou reprezentovány jako vektory diskrétních hodnot v bodech `xm`:"
   ]
  },
  {
   "cell_type": "code",
   "execution_count": 5,
   "metadata": {
    "collapsed": true,
    "deletable": true,
    "editable": true
   },
   "outputs": [],
   "source": [
    "k = 2.5 * ones(n-1)\n",
    "H = 1e-6 * ones(n-1)"
   ]
  },
  {
   "cell_type": "code",
   "execution_count": 6,
   "metadata": {
    "collapsed": false,
    "deletable": true,
    "editable": true
   },
   "outputs": [],
   "source": [
    "# Sestaveni diagonal matice soustavy\n",
    "kd = hstack((k[:-1], 2*k[-1], 0))\n",
    "ku = hstack((0, 0, k[1:]))\n",
    "km = hstack((1, -(k[:-1] + k[1:]),  -2*k[-1]))"
   ]
  },
  {
   "cell_type": "code",
   "execution_count": 7,
   "metadata": {
    "collapsed": true,
    "deletable": true,
    "editable": true
   },
   "outputs": [],
   "source": [
    "# matice soustavy\n",
    "A = spdiags([kd, km, ku], [-1, 0, 1], n, n, 'csr')\n",
    "# vektor pravych stran\n",
    "b = hstack((0, -(H[:-1] + H[1:])*dx**2/2, q*2*dx - H[-1]*dx**2))"
   ]
  },
  {
   "cell_type": "markdown",
   "metadata": {},
   "source": [
    "řešení"
   ]
  },
  {
   "cell_type": "code",
   "execution_count": 8,
   "metadata": {
    "collapsed": false,
    "deletable": true,
    "editable": true
   },
   "outputs": [],
   "source": [
    "t = spsolve(A, b)"
   ]
  },
  {
   "cell_type": "code",
   "execution_count": 9,
   "metadata": {
    "collapsed": false
   },
   "outputs": [
    {
     "data": {
      "image/png": "[encoded data removed]",
      "text/plain": [
       "<matplotlib.figure.Figure at 0x7f8459554860>"
      ]
     },
     "metadata": {},
     "output_type": "display_data"
    }
   ],
   "source": [
    "plot(t, x, 'm')\n",
    "ylim(tc, 0)\n",
    "xlabel('x')\n",
    "ylabel('Teplota');"
   ]
  },
  {
   "cell_type": "markdown",
   "metadata": {},
   "source": [
    "## Variabilní produkce tepla\n",
    "Výpočet geotermy pro produkci tepla pouze ve svrchní kůře (15km)"
   ]
  },
  {
   "cell_type": "code",
   "execution_count": 10,
   "metadata": {
    "collapsed": true,
    "deletable": true,
    "editable": true
   },
   "outputs": [],
   "source": [
    "H = zeros(n-1)\n",
    "H[xm <= 15000] = 7e-6/3"
   ]
  },
  {
   "cell_type": "code",
   "execution_count": 11,
   "metadata": {
    "collapsed": true,
    "deletable": true,
    "editable": true
   },
   "outputs": [],
   "source": [
    "b = hstack((0, -(H[:-1] + H[1:])*dx**2/2, q*2*dx - H[-1]*dx**2))"
   ]
  },
  {
   "cell_type": "code",
   "execution_count": 12,
   "metadata": {
    "collapsed": true,
    "deletable": true,
    "editable": true
   },
   "outputs": [],
   "source": [
    "t = spsolve(A, b)"
   ]
  },
  {
   "cell_type": "code",
   "execution_count": 13,
   "metadata": {
    "collapsed": false
   },
   "outputs": [
    {
     "data": {
      "image/png": "[encoded data removed]",
      "text/plain": [
       "<matplotlib.figure.Figure at 0x7f8455df26d8>"
      ]
     },
     "metadata": {},
     "output_type": "display_data"
    }
   ],
   "source": [
    "plot(t, x, 'm')\n",
    "ylim(tc, 0)\n",
    "xlabel('x')\n",
    "ylabel('Teplota');"
   ]
  },
  {
   "cell_type": "markdown",
   "metadata": {},
   "source": [
    "## Variabilní produkce tepla\n",
    "Výpočet geotermy pro produkci tepla pouze ve spodní kůře (15km)"
   ]
  },
  {
   "cell_type": "code",
   "execution_count": 14,
   "metadata": {
    "collapsed": true,
    "deletable": true,
    "editable": true
   },
   "outputs": [],
   "source": [
    "H = zeros(n-1)\n",
    "H[xm >= 20000] = 7e-6/3"
   ]
  },
  {
   "cell_type": "code",
   "execution_count": 15,
   "metadata": {
    "collapsed": true,
    "deletable": true,
    "editable": true
   },
   "outputs": [],
   "source": [
    "b = hstack((0, -(H[:-1] + H[1:])*dx**2/2, q*2*dx - H[-1]*dx**2))"
   ]
  },
  {
   "cell_type": "code",
   "execution_count": 16,
   "metadata": {
    "collapsed": true,
    "deletable": true,
    "editable": true
   },
   "outputs": [],
   "source": [
    "t = spsolve(A, b)"
   ]
  },
  {
   "cell_type": "code",
   "execution_count": 17,
   "metadata": {
    "collapsed": false,
    "deletable": true,
    "editable": true
   },
   "outputs": [
    {
     "data": {
      "image/png": "[encoded data removed]",
      "text/plain": [
       "<matplotlib.figure.Figure at 0x7f8459e15780>"
      ]
     },
     "metadata": {},
     "output_type": "display_data"
    }
   ],
   "source": [
    "plot(t, x, 'm')\n",
    "ylim(tc, 0)\n",
    "xlabel('x')\n",
    "ylabel('Teplota');"
   ]
  },
  {
   "cell_type": "markdown",
   "metadata": {
    "deletable": true,
    "editable": true
   },
   "source": [
    "# Úkol na doma\n",
    "Vypočítejte stabilní geotermu a mocnost litosféry pro teplotně závislou konduktivitu danou vztahem:\n",
    "\n",
    "$$\\lambda=2+\\exp \\left ( \\frac{-T}{1250} \\right )+\\frac{48}{\\exp \\left ( \\frac{1250-T}{10} \\right )}$$"
   ]
  },
  {
   "cell_type": "code",
   "execution_count": null,
   "metadata": {
    "collapsed": true,
    "deletable": true,
    "editable": true
   },
   "outputs": [],
   "source": []
  }
 ],
 "metadata": {
  "kernelspec": {
   "display_name": "Python 3",
   "language": "python",
   "name": "python3"
  },
  "language_info": {
   "codemirror_mode": {
    "name": "ipython",
    "version": 3
   },
   "file_extension": ".py",
   "mimetype": "text/x-python",
   "name": "python",
   "nbconvert_exporter": "python",
   "pygments_lexer": "ipython3",
   "version": "3.5.3"
  }
 },
 "nbformat": 4,
 "nbformat_minor": 2
}
