{
 "cells": [
  {
   "cell_type": "code",
   "execution_count": 1,
   "metadata": {},
   "outputs": [
    {
     "name": "stdout",
     "output_type": "stream",
     "text": [
      "Populating the interactive namespace from numpy and matplotlib\n"
     ]
    }
   ],
   "source": [
    "%pylab inline\n",
    "plt.rcParams['figure.figsize'] = (8, 6)"
   ]
  },
  {
   "cell_type": "code",
   "execution_count": 2,
   "metadata": {
    "collapsed": true
   },
   "outputs": [],
   "source": [
    "from scipy.sparse import spdiags\n",
    "from scipy.sparse.linalg import spsolve"
   ]
  },
  {
   "cell_type": "code",
   "execution_count": 21,
   "metadata": {
    "collapsed": true
   },
   "outputs": [],
   "source": [
    "k, H, n, tc = 2.5, 2e-6, 100, 35000"
   ]
  },
  {
   "cell_type": "code",
   "execution_count": 31,
   "metadata": {
    "collapsed": true
   },
   "outputs": [],
   "source": [
    "qset = linspace(-0.005, -0.04, 50)\n",
    "qs = []"
   ]
  },
  {
   "cell_type": "code",
   "execution_count": 32,
   "metadata": {},
   "outputs": [],
   "source": [
    "for q in qset:\n",
    "    # setup grid\n",
    "    x = linspace(0, tc, n)\n",
    "    dx = tc / (n - 1)\n",
    "    # create system of equations\n",
    "    d = ones(n)\n",
    "    A = spdiags([d, -2*d, d], [-1, 0, 1], n, n, 'csr')\n",
    "    b = -d * H * dx**2 / k\n",
    "    # define boundary conditions\n",
    "    Tl = 0\n",
    "    A[0, :2] = [1, 0]\n",
    "    b[0] = Tl\n",
    "    qr = -0.02\n",
    "    A[-1, -2:] = [2, -2]\n",
    "    b[-1] += 2 * q * dx / k\n",
    "    # solve\n",
    "    t = spsolve(A, b)\n",
    "    # store surface heat flow\n",
    "    qs.append( 1000 * k * (t[1] - t[0]) / dx)"
   ]
  },
  {
   "cell_type": "code",
   "execution_count": 33,
   "metadata": {},
   "outputs": [
    {
     "data": {
      "image/png": "[encoded data removed]",
      "text/plain": [
       "<matplotlib.figure.Figure at 0x7f2c98e51fd0>"
      ]
     },
     "metadata": {},
     "output_type": "display_data"
    }
   ],
   "source": [
    "plot(-1000*qset, qs)\n",
    "xlabel('Mantle heat flow [mW/m2]')\n",
    "ylabel('Surface heat flow [mW/m2]');"
   ]
  },
  {
   "cell_type": "code",
   "execution_count": null,
   "metadata": {
    "collapsed": true
   },
   "outputs": [],
   "source": []
  }
 ],
 "metadata": {
  "kernelspec": {
   "display_name": "Python 3",
   "language": "python",
   "name": "python3"
  },
  "language_info": {
   "codemirror_mode": {
    "name": "ipython",
    "version": 3
   },
   "file_extension": ".py",
   "mimetype": "text/x-python",
   "name": "python",
   "nbconvert_exporter": "python",
   "pygments_lexer": "ipython3",
   "version": "3.5.3"
  }
 },
 "nbformat": 4,
 "nbformat_minor": 2
}
