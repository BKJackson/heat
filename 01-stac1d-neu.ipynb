{
 "cells": [
  {
   "cell_type": "markdown",
   "metadata": {},
   "source": [
    "# Stacionární řešení Poissonovy rovnice v 1D"
   ]
  },
  {
   "cell_type": "code",
   "execution_count": 1,
   "metadata": {
    "collapsed": false
   },
   "outputs": [
    {
     "name": "stdout",
     "output_type": "stream",
     "text": [
      "Populating the interactive namespace from numpy and matplotlib\n"
     ]
    }
   ],
   "source": [
    "%pylab inline\n",
    "plt.rcParams['figure.figsize'] = (8, 6)"
   ]
  },
  {
   "cell_type": "markdown",
   "metadata": {},
   "source": [
    "Stav, kdy teplotní rozdíl mezi jednotlivými částmi tělesa se v čase nemění t.j.\n",
    "$\\frac{\\partial T}{\\partial t} = 0$, nazýváme stacionárním vedením tepla.\n",
    "Rovnice vedení tepla má tvar **Poissonovy rovnice**\n",
    "\n",
    "$$\\frac{{\\partial ^2}T}{\\partial {x^2}} =  - \\frac{H}{\\lambda }$$"
   ]
  },
  {
   "cell_type": "markdown",
   "metadata": {},
   "source": [
    "### Dirichletova a Neumannova okrajová podmínka\n",
    "\n",
    "Soustava $n$  lineárních rovnic o $n$ neznámých pro řešení Poissonovy rovnice a použití Dirichletovy a Neumannovi podmínky (předepsaná hustota tepelného toku) pro okrajové body, $T_{x_0} = {T_{def}}$ a  $q_{x_{n-1}} = - \\lambda  \\cdot \\frac{\\partial T}{\\partial x}$.\n",
    "$$\\renewcommand\\arraystretch{1.5}\\begin{vmatrix}\n",
    "   1 & 0 & 0 & 0 & 0 & 0  \\\\\n",
    "   1 & { - 2} & 1 & 0 & 0 & 0  \\\\\n",
    "   0 & 1 & { - 2} & 1 & 0 & 0  \\\\\n",
    "    \\vdots  &  \\vdots  &  \\vdots  &  \\vdots  &  \\vdots  &  \\vdots   \\\\\n",
    "   0 & 0 & 0 & 1 & { - 2} & 1  \\\\\n",
    "   0 & 0 & 0 & 0 & 2 & { - 2}  \\\\\n",
    "\\end{vmatrix} \\cdot \\begin{vmatrix}\n",
    "   {T_{x_0}}  \\\\\n",
    "   {T_{x_1}}  \\\\\n",
    "   {T_{x_2}}  \\\\\n",
    "    \\vdots   \\\\\n",
    "   {T_{x_{n - 2} }}  \\\\\n",
    "   {T_{x_{n-1}}}  \\\\\n",
    "\\end{vmatrix} = \\begin{vmatrix}\n",
    "   {T_{def}}  \\\\\n",
    "   {- \\frac{{H \\cdot \\Delta {x^2}}}{\\lambda }}  \\\\\n",
    "   {- \\frac{{H \\cdot \\Delta {x^2}}}{\\lambda }}  \\\\\n",
    "    \\vdots   \\\\\n",
    "   {- \\frac{{H \\cdot \\Delta {x^2}}}{\\lambda }}  \\\\\n",
    "   {\\frac{{q \\cdot 2 \\Delta x - H \\cdot \\Delta {x^2}}}{\\lambda }}  \\\\\n",
    "\\end{vmatrix}$$\n",
    "kde matice soustavy je čtvercová regulární matice, tudíž soustava rovnic má právě jedno řešení.\n",
    "\n",
    "Zkráceně lze systém zapsat\n",
    "$${\\bf{A}}x = b$$"
   ]
  },
  {
   "cell_type": "markdown",
   "metadata": {},
   "source": [
    "Import potřebných modulů pro práci s řídkou maticí"
   ]
  },
  {
   "cell_type": "code",
   "execution_count": 2,
   "metadata": {
    "collapsed": true
   },
   "outputs": [],
   "source": [
    "from scipy.sparse import spdiags\n",
    "from scipy.sparse.linalg import spsolve"
   ]
  },
  {
   "cell_type": "markdown",
   "metadata": {},
   "source": [
    "Parametry: konduktivita, produktivita, počet uzlů, velikost domény"
   ]
  },
  {
   "cell_type": "code",
   "execution_count": 3,
   "metadata": {
    "collapsed": true
   },
   "outputs": [],
   "source": [
    "k, H, n, tc, q = 2.5, 1e-6, 100, 35000, -0.02"
   ]
  },
  {
   "cell_type": "markdown",
   "metadata": {},
   "source": [
    "Inicializace"
   ]
  },
  {
   "cell_type": "code",
   "execution_count": 4,
   "metadata": {
    "collapsed": false
   },
   "outputs": [],
   "source": [
    "x = linspace(0, tc, n)  # pozice uzlu\n",
    "dx = tc / (n - 1)       # vzdalenost uzlu\n",
    "d = ones(n)"
   ]
  },
  {
   "cell_type": "markdown",
   "metadata": {},
   "source": [
    "matice soustavy a prava strana soustavy"
   ]
  },
  {
   "cell_type": "code",
   "execution_count": 5,
   "metadata": {
    "collapsed": true
   },
   "outputs": [],
   "source": [
    "A = spdiags([d, -2*d, d], [-1, 0, 1], n, n, 'csr')\n",
    "b = -d * H * dx**2 / k"
   ]
  },
  {
   "cell_type": "markdown",
   "metadata": {},
   "source": [
    "Dirichletova okrajova podminka pro $x_0$ a Neumannova pro $x_{n-1}$"
   ]
  },
  {
   "cell_type": "code",
   "execution_count": 6,
   "metadata": {
    "collapsed": false
   },
   "outputs": [],
   "source": [
    "Tl = 0\n",
    "A[0, :2] = [1, 0]\n",
    "b[0] = Tl\n",
    "qr = -0.02\n",
    "A[-1, -2:] = [2, -2]\n",
    "b[-1] += 2 * q * dx / k"
   ]
  },
  {
   "cell_type": "markdown",
   "metadata": {},
   "source": [
    "Řešení soustavy lineárních rovnic"
   ]
  },
  {
   "cell_type": "code",
   "execution_count": 7,
   "metadata": {
    "collapsed": true
   },
   "outputs": [],
   "source": [
    "t = spsolve(A, b)"
   ]
  },
  {
   "cell_type": "markdown",
   "metadata": {},
   "source": [
    "### Analytické řešení"
   ]
  },
  {
   "cell_type": "code",
   "execution_count": 8,
   "metadata": {
    "collapsed": false
   },
   "outputs": [],
   "source": [
    "ta = -H * x**2 / (2 * k) + (H * tc - q) * x / k + Tl"
   ]
  },
  {
   "cell_type": "markdown",
   "metadata": {},
   "source": [
    "Vykreslení výsledku numerického řešení a analytického řešení"
   ]
  },
  {
   "cell_type": "code",
   "execution_count": 9,
   "metadata": {
    "collapsed": false
   },
   "outputs": [
    {
     "data": {
      "image/png": "[encoded data removed]",
      "text/plain": [
       "<matplotlib.figure.Figure at 0x7f8f4e48af28>"
      ]
     },
     "metadata": {},
     "output_type": "display_data"
    }
   ],
   "source": [
    "plot(t, x, 'b', label='Numeric')\n",
    "plot(ta, x, 'g.', label='Analytic')\n",
    "ylim(tc, 0)\n",
    "legend()\n",
    "xlabel('x')\n",
    "ylabel('Teplota')\n",
    "title('Tok na povrchu {:.2f} mW/m2'.format(1000 * k * (t[1] - t[0]) / dx));"
   ]
  },
  {
   "cell_type": "code",
   "execution_count": null,
   "metadata": {
    "collapsed": true
   },
   "outputs": [],
   "source": []
  }
 ],
 "metadata": {
  "kernelspec": {
   "display_name": "Python 3",
   "language": "python",
   "name": "python3"
  },
  "language_info": {
   "codemirror_mode": {
    "name": "ipython",
    "version": 3
   },
   "file_extension": ".py",
   "mimetype": "text/x-python",
   "name": "python",
   "nbconvert_exporter": "python",
   "pygments_lexer": "ipython3",
   "version": "3.5.3"
  }
 },
 "nbformat": 4,
 "nbformat_minor": 2
}
